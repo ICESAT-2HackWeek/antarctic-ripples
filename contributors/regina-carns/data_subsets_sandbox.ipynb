{
 "cells": [
  {
   "cell_type": "code",
   "execution_count": null,
   "id": "aa472915-d85c-4358-b686-48eb52f4075f",
   "metadata": {},
   "outputs": [],
   "source": [
    "# import packages:\n",
    "import numpy as np                   # Numeric Python\n",
    "import matplotlib.pyplot as plt      # Plotting routines\n",
    "import h5py                          # general HDF5 reading/writing library\n",
    "import rioxarray as rx               # Package to read raster data from hdf5 files\n",
    "from pyproj import Transformer, CRS  # libraries to allow coordinate transforms\n",
    "import glob                          # Package to locate files on disk\n",
    "import os                            # File-level utilities\n",
    "import re                            # regular expressions for string interpretation\n",
    "import icepyx as ipx                 # Package to interact with ICESat-2 online resources\n",
    "from sliderule import icesat2        # Package for online ICESat-2 processing\n",
    "from scipy import signal\n",
    "from matplotlib.pyplot import cm\n",
    "import geopandas"
   ]
  },
  {
   "cell_type": "code",
   "execution_count": null,
   "id": "581f3be5-a81e-4455-b7c3-66086a5a428f",
   "metadata": {},
   "outputs": [],
   "source": [
    "%matplotlib widget"
   ]
  },
  {
   "cell_type": "code",
   "execution_count": null,
   "id": "66f3cd5d-c4d7-47e4-ade0-35acb1e6dd35",
   "metadata": {},
   "outputs": [],
   "source": [
    "plt.close('all')"
   ]
  },
  {
   "cell_type": "code",
   "execution_count": null,
   "id": "bd59afa5-d9dc-4ee8-85f1-7a9e634b1b24",
   "metadata": {},
   "outputs": [],
   "source": [
    "# logins, etc.\n",
    "\n",
    "#HOST = 'https://urs.earthdata.nasa.gov'\n",
    "#ipx.core.Earthdata.Earthdata('ben_smith','whatever@whatever.io', HOST).login()\n",
    "\n",
    "url=\"icesat2sliderule.org\"\n",
    "icesat2.init(url, verbose=False)"
   ]
  },
  {
   "cell_type": "code",
   "execution_count": null,
   "id": "4ba30c90-37de-43c4-9f88-16fc412ef500",
   "metadata": {},
   "outputs": [],
   "source": [
    "# Annika's bounding box:\n",
    "# x,y\n",
    "#-340,-80\n",
    "#-480,-170\n",
    "\n",
    "# XR= np.array([-480, -340])*1.e3\n",
    "# YR= np.array([-170, -80])*1.e3\n",
    "\n",
    "#North region coordinate limits (in stereographic coords, km): \n",
    "region_name = 'hercules-north'\n",
    "#XR = [-450, -375, -375, -450]\n",
    "XR = np.array([-450,-375])*1.e3\n",
    "#YR = [-100, -115, -100, -90]\n",
    "YR = np.array([-115,-90])*1.e3\n",
    "#South region coordinate limits (in stereographic coords, km): \n",
    "# x = [ -450 -375 -375 -450]; y = [-100 -115 -140 -115];\n",
    "\n",
    "# shrink down to a tiny box in the center:\n",
    "XR=np.mean(XR)+np.array([-5.e4, 5.e4])\n",
    "YR=np.mean(YR)+np.array([-5.e4, 5.e4])\n",
    "\n",
    "# Prepare coordinate transformations between lat/lon and polar stereographic\n",
    "crs=CRS.from_epsg(3031)\n",
    "to_xy_crs=Transformer.from_crs(crs.geodetic_crs, crs)\n",
    "to_geo_crs=Transformer.from_crs(crs, crs.geodetic_crs)\n",
    "\n",
    "corners_lat, corners_lon=to_geo_crs.transform(np.array(XR)[[0, 1, 1, 0, 0]], np.array(YR)[[0, 0, 1, 1, 0]])\n",
    "latlims=[np.min(corners_lat), np.max(corners_lat)]\n",
    "lonlims=[np.min(corners_lon), np.max(corners_lon)]"
   ]
  },
  {
   "cell_type": "code",
   "execution_count": null,
   "id": "8c42c2a5-80d2-401b-8c54-9bb40f668150",
   "metadata": {},
   "outputs": [],
   "source": [
    "# shp_file = geopandas.read_file('shapes/allan_hills_main_blue_ice_area.shx')\n",
    "# shp_file.to_file('shapes/allanhills.geojson', driver='GeoJSON')"
   ]
  },
  {
   "cell_type": "code",
   "execution_count": null,
   "id": "fafa2a6f-9c45-488c-bf9b-9bc2c620f54b",
   "metadata": {},
   "outputs": [],
   "source": [
    "#allanhills = icesat2.toregion('shapes/allanhills.geojson',tolerance=0.1,cellsize=0.01)"
   ]
  },
  {
   "cell_type": "code",
   "execution_count": null,
   "id": "d183a6e7-b26a-4403-8026-17f09ac8cbcc",
   "metadata": {},
   "outputs": [],
   "source": [
    "# run a slideRule ATL06 query.  Just ask for cycle 8 (Antarctic winter, 2020)\n",
    "# to avoid getting swamped right away\n",
    "\n",
    "# See parameters here:\n",
    "# http://icesat2sliderule.org/rtd/user_guide/ICESat-2.html\n",
    "params= { \n",
    "    'poly':[{'lon':this_lon, 'lat':this_lat} for this_lon, this_lat in zip(corners_lon, corners_lat)],\n",
    "    #'poly':allanhills['poly'],\n",
    "        'srt':3,\n",
    "        'cnf':1,\n",
    "        'len':10,\n",
    "         'res':10,\n",
    "         'ats':5,\n",
    "         'cnt':10,\n",
    "         'cycle':8,\n",
    "         'maxi': 10,\n",
    "        'pass_invalid':False}\n",
    "\n",
    "D_IS_SR=icesat2.atl06p(params, \n",
    "                    asset=\"nsidc-s3\")"
   ]
  },
  {
   "cell_type": "code",
   "execution_count": null,
   "id": "94ce1538-b72c-4307-ac36-164c5e7e46bc",
   "metadata": {},
   "outputs": [],
   "source": []
  },
  {
   "cell_type": "code",
   "execution_count": null,
   "id": "23c7a90a-9b9e-4165-bd79-bc9a91eb00bf",
   "metadata": {},
   "outputs": [],
   "source": [
    "thistrack = D_IS_SR[(D_IS_SR['rgt']==6)&(D_IS_SR['spot']==3)]\n",
    "distances = thistrack['distance'].values\n",
    "heights = thistrack['h_mean'].values\n",
    "slope = thistrack['dh_fit_dx'].values\n",
    "scatterfig = plt.figure()\n",
    "plt.scatter(distances,heights,c=slope)\n",
    "plt.plot(distances,heights)\n",
    "plt.show()"
   ]
  },
  {
   "cell_type": "code",
   "execution_count": null,
   "id": "3d8db0c9-b166-4717-a4af-8ac6476ddcf8",
   "metadata": {},
   "outputs": [],
   "source": [
    "from scipy.fft import fft, fftfreq\n",
    "\n",
    "yf = fft(heights)\n",
    "N = len(heights)\n",
    "step = 10\n",
    "\n",
    "from scipy.signal import windows# blackman,general_hamming\n",
    "fftfig = plt.figure()\n",
    "w = windows.blackman(N)\n",
    "\n",
    "ywf = fft(heights*w)\n",
    "xf = fftfreq(N, step)[:N//2]\n",
    "\n",
    "import matplotlib.pyplot as plt\n",
    "\n",
    "plt.semilogy(xf[1:N//2], 2.0/N * np.abs(yf[1:N//2]), '-b')\n",
    "plt.semilogy(xf[1:N//2], 2.0/N * np.abs(ywf[1:N//2]), '-r')\n",
    "plt.xlim([1e-9,1e-2])\n",
    "\n",
    "plt.legend(['FFT', 'FFT w. window'])\n",
    "\n",
    "plt.grid()\n",
    "plt.show()"
   ]
  },
  {
   "cell_type": "code",
   "execution_count": null,
   "id": "8f38074f-822a-4dd1-bb7e-5aaab3115891",
   "metadata": {},
   "outputs": [],
   "source": [
    "spotset = plt.figure()\n",
    "\n",
    "n = 50\n",
    "tracks = D_IS_SR.rgt.unique()\n",
    "for i in range(1,7):\n",
    "    try:\n",
    "        thistrack = D_IS_SR[(D_IS_SR['rgt']==57)&(D_IS_SR['spot']==i)]\n",
    "        distances = thistrack['distance'].values\n",
    "        heights = thistrack['h_mean'].values\n",
    "        heightseg = heights[i*n:(i+1)*n]\n",
    "        distseg = distances[i*n:(i+1)*n]\n",
    "        detrend_x = signal.detrend(heightseg)\n",
    "        plt.plot(np.arange(0,500,10),(detrend_x+(i*.15)),label=('track'+str(i)))\n",
    "    except:\n",
    "        pass\n",
    "plt.legend()"
   ]
  },
  {
   "cell_type": "code",
   "execution_count": null,
   "id": "d8fb039d-8e05-4420-9391-2d71cf26e30d",
   "metadata": {},
   "outputs": [],
   "source": [
    "trackset = plt.figure()\n",
    "n = 50\n",
    "tracks = D_IS_SR.rgt.unique()\n",
    "for i in range(20):\n",
    "    try:\n",
    "        thistrack = D_IS_SR[(D_IS_SR['rgt']==(tracks[i]))&(D_IS_SR['spot']==3)]\n",
    "        distances = thistrack['distance'].values\n",
    "        heights = thistrack['h_mean'].values\n",
    "        heightseg = heights[i*n:(i+1)*n]\n",
    "        distseg = distances[i*n:(i+1)*n]\n",
    "        detrend_x = signal.detrend(heightseg)\n",
    "        plt.plot(np.arange(0,500,10),(detrend_x+(i*.15)),label=('track'+str(tracks[i])))\n",
    "    except:\n",
    "        pass\n",
    "plt.legend()\n",
    "                         "
   ]
  },
  {
   "cell_type": "code",
   "execution_count": null,
   "id": "0b05df6b-01a5-4c63-b685-c3ad9d37a23a",
   "metadata": {},
   "outputs": [],
   "source": [
    "thistrack = D_IS_SR[(D_IS_SR['rgt']==11)&(D_IS_SR['spot']==3)]\n",
    "distances = thistrack['distance'].values\n",
    "heights = thistrack['h_mean'].values\n",
    "distset = plt.figure()\n",
    "nlines = 10\n",
    "\n",
    "for i in range(8):\n",
    "    heightseg = heights[i*n:(i+1)*n]\n",
    "    distseg = distances[i*n:(i+1)*n]\n",
    "    detrend_x = signal.detrend(heightseg)\n",
    "    plt.plot(np.arange(0,500,10),(detrend_x+(i*.4)),label=('distance'+str(i*n)))\n",
    "plt.legend()"
   ]
  },
  {
   "cell_type": "code",
   "execution_count": null,
   "id": "8c772859-2672-4161-9644-dd7ad0371d91",
   "metadata": {},
   "outputs": [],
   "source": [
    "\n",
    "npoints = 50\n",
    "ndist = 5\n",
    "#tracks = D_IS_SR[D_IS_SR.rgt!=102].rgt.unique()\n",
    "#ntracks = 20\n",
    "tracks = [179,128,82,52]\n",
    "ntracks = 4\n",
    "ntot = ntracks*ndist\n",
    "color = cm.viridis(np.linspace(0, 1, ntot))\n",
    "c_i = 0\n",
    "curr_y_offset = 0\n",
    "trackdistset = plt.figure(figsize=[5,ntracks*2])\n",
    "for track in tracks[:ntracks]:\n",
    "    try:\n",
    "        thistrack = D_IS_SR[(D_IS_SR['rgt']==(track))&(D_IS_SR['spot']==3)]\n",
    "        distances = thistrack['distance'].values\n",
    "        heights = thistrack['h_mean'].values\n",
    "        for i in range(ndist):\n",
    "            heightseg = heights[i*npoints:(i+1)*npoints]\n",
    "            distseg = distances[i*npoints:(i+1)*npoints]\n",
    "            detrend_x = signal.detrend(heightseg)\n",
    "            c = color[c_i]\n",
    "            c_i = c_i+1\n",
    "            line_label = 'track '+str(track)+' '+str(i*npoints)+'m'\n",
    "            trackvar = np.max(detrend_x)-np.min(detrend_x)\n",
    "            if(trackvar<1):\n",
    "                curr_y_offset = curr_y_offset+trackvar/2\n",
    "                plt.plot(np.arange(0,500,10),(detrend_x+(curr_y_offset)),alpha=0.5,c=c,label=line_label)\n",
    "                plt.text(520,(np.mean(detrend_x)+(curr_y_offset)),line_label)\n",
    "    except:\n",
    "         pass\n",
    "plt.tight_layout()\n",
    "#plt.legend()"
   ]
  },
  {
   "cell_type": "code",
   "execution_count": null,
   "id": "face72ce-5f74-4761-8ac1-8661607ec4f7",
   "metadata": {},
   "outputs": [],
   "source": []
  },
  {
   "cell_type": "code",
   "execution_count": null,
   "id": "e16f3565-d366-4fcb-9389-298bfdab2257",
   "metadata": {},
   "outputs": [],
   "source": []
  }
 ],
 "metadata": {
  "kernelspec": {
   "display_name": "Python 3 (ipykernel)",
   "language": "python",
   "name": "python3"
  },
  "language_info": {
   "codemirror_mode": {
    "name": "ipython",
    "version": 3
   },
   "file_extension": ".py",
   "mimetype": "text/x-python",
   "name": "python",
   "nbconvert_exporter": "python",
   "pygments_lexer": "ipython3",
   "version": "3.9.10"
  }
 },
 "nbformat": 4,
 "nbformat_minor": 5
}
