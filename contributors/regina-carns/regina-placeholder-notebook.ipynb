{
 "cells": [
  {
   "cell_type": "markdown",
   "id": "5dd70548-a544-4cb3-8277-8cf3f02ee943",
   "metadata": {},
   "source": [
    "## Regina's Placeholder Notebook"
   ]
  },
  {
   "cell_type": "code",
   "execution_count": null,
   "id": "e426834f-5b65-4e56-b605-5999a5a62171",
   "metadata": {},
   "outputs": [],
   "source": []
  }
 ],
 "metadata": {
  "kernelspec": {
   "display_name": "Python 3 (ipykernel)",
   "language": "python",
   "name": "python3"
  },
  "language_info": {
   "codemirror_mode": {
    "name": "ipython",
    "version": 3
   },
   "file_extension": ".py",
   "mimetype": "text/x-python",
   "name": "python",
   "nbconvert_exporter": "python",
   "pygments_lexer": "ipython3",
   "version": "3.9.10"
  }
 },
 "nbformat": 4,
 "nbformat_minor": 5
}
