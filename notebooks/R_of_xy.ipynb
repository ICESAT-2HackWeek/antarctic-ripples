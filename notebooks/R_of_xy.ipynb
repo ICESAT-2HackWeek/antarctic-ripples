{
 "cells": [
  {
   "cell_type": "code",
   "execution_count": null,
   "id": "aa472915-d85c-4358-b686-48eb52f4075f",
   "metadata": {},
   "outputs": [],
   "source": [
    "# import packages:\n",
    "import numpy as np                   # Numeric Python\n",
    "import matplotlib.pyplot as plt      # Plotting routines\n",
    "import h5py                          # general HDF5 reading/writing library\n",
    "import rioxarray as rx               # Package to read raster data from hdf5 files\n",
    "from pyproj import Transformer, CRS  # libraries to allow coordinate transforms\n",
    "import glob                          # Package to locate files on disk\n",
    "import os                            # File-level utilities\n",
    "import re                            # regular expressions for string interpretation\n",
    "import icepyx as ipx                 # Package to interact with ICESat-2 online resources\n",
    "from sliderule import icesat2        # Package for online ICESat-2 processing"
   ]
  },
  {
   "cell_type": "code",
   "execution_count": null,
   "id": "581f3be5-a81e-4455-b7c3-66086a5a428f",
   "metadata": {},
   "outputs": [],
   "source": [
    "%matplotlib widget"
   ]
  },
  {
   "cell_type": "code",
   "execution_count": null,
   "id": "bd59afa5-d9dc-4ee8-85f1-7a9e634b1b24",
   "metadata": {},
   "outputs": [],
   "source": [
    "# logins, etc.\n",
    "\n",
    "#HOST = 'https://urs.earthdata.nasa.gov'\n",
    "#ipx.core.Earthdata.Earthdata('ben_smith','whatever@whatever.io', HOST).login()\n",
    "\n",
    "url=\"icesat2sliderule.org\"\n",
    "icesat2.init(url, verbose=False)"
   ]
  },
  {
   "cell_type": "code",
   "execution_count": null,
   "id": "4ba30c90-37de-43c4-9f88-16fc412ef500",
   "metadata": {},
   "outputs": [],
   "source": [
    "# Annika's bounding box:\n",
    "# x,y\n",
    "#-340,-80\n",
    "#-480,-170\n",
    "\n",
    "XR= np.array([-480, -340])*1.e3\n",
    "YR= np.array([-170, -80])*1.e3\n",
    "\n",
    "# shrink down to a tiny box in the center:\n",
    "#XR=np.mean(XR)+np.array([-5.e3, 5.e3])\n",
    "#YR=np.mean(YR)+np.array([-5.e3, 5.e3])\n",
    "\n",
    "\n",
    "# Prepare coordinate transformations between lat/lon and polar stereographic\n",
    "crs=CRS.from_epsg(3031)\n",
    "to_xy_crs=Transformer.from_crs(crs.geodetic_crs, crs)\n",
    "to_geo_crs=Transformer.from_crs(crs, crs.geodetic_crs)\n",
    "\n",
    "corners_lat, corners_lon=to_geo_crs.transform(np.array(XR)[[0, 1, 1, 0, 0]], np.array(YR)[[0, 0, 1, 1, 0]])\n",
    "latlims=[np.min(corners_lat), np.max(corners_lat)]\n",
    "lonlims=[np.min(corners_lon), np.max(corners_lon)]"
   ]
  },
  {
   "cell_type": "code",
   "execution_count": null,
   "id": "d183a6e7-b26a-4403-8026-17f09ac8cbcc",
   "metadata": {},
   "outputs": [],
   "source": [
    "# run a slideRule ATL06 query.  Just ask for cycle 8 (Antarctic winter, 2020)\n",
    "# to avoid getting swamped right away\n",
    "\n",
    "# See parameters here:\n",
    "# http://icesat2sliderule.org/rtd/user_guide/ICESat-2.html\n",
    "params= { 'poly':[{'lon':this_lon, 'lat':this_lat} for this_lon, this_lat in zip(corners_lon, corners_lat)],\n",
    "        'srt':3,\n",
    "        'cnf':1,\n",
    "        'len':10,\n",
    "         'res':10,\n",
    "         'ats':5,\n",
    "         'cnt':10,\n",
    "         'cycle':8,\n",
    "         'maxi': 10,\n",
    "        'pass_invalid':False}\n",
    "\n",
    "D_IS_SR=icesat2.atl06p(params, \n",
    "                     asset=\"nsidc-s3\")"
   ]
  },
  {
   "cell_type": "code",
   "execution_count": null,
   "id": "40262c5d-9842-494e-8f94-9a95f722cf59",
   "metadata": {},
   "outputs": [],
   "source": [
    "lon=np.array([gi.x for gi in D_IS_SR.geometry])\n",
    "lat=np.array([gi.y for gi in D_IS_SR.geometry])\n",
    "xy=to_xy_crs.transform(lat, lon)\n"
   ]
  },
  {
   "cell_type": "code",
   "execution_count": null,
   "id": "ea5667d3-3b2c-47f1-87e1-108fd43a4bc3",
   "metadata": {},
   "outputs": [],
   "source": [
    "D_IS_SR"
   ]
  },
  {
   "cell_type": "code",
   "execution_count": null,
   "id": "6eaf0a5f-57f0-4565-acb1-ffa1e1f01dd8",
   "metadata": {},
   "outputs": [],
   "source": [
    "# DO NOT RUN BIG SCATTER PLOTS WITH THE WHOLE AREA \n",
    "#plt.figure(); plt.scatter(xy[0], xy[1], c=D_IS_SR['h_mean'], cmap='Spectral'); plt.colorbar(label='surface height')\n",
    "#plt.figure(); plt.scatter(xy[0], xy[1], c=D_IS_SR['rms_misfit'], vmin=0.1, vmax=1); plt.colorbar(label='rms_misfit')\n"
   ]
  },
  {
   "cell_type": "code",
   "execution_count": null,
   "id": "e16f3565-d366-4fcb-9389-298bfdab2257",
   "metadata": {},
   "outputs": [],
   "source": [
    "\n",
    "# pull the x, y, spot, and number of points from the data frame\n",
    "sigma=np.array(D_IS_SR['rms_misfit'])\n",
    "spot=np.array(D_IS_SR['spot'])\n",
    "N=np.array(D_IS_SR['n_fit_photons'])\n",
    "W=np.array(D_IS_SR['w_surface_window_final'])\n",
    "\n",
    "# find the points that have 100 photons, from the strong spots, for which the surface window converged to 3 m\n",
    "good=(N>100) & (np.in1d(spot, [1, 3, 5])) & (W==3.)\n",
    "# make subsetted variables\n",
    "xy1=[xy[0][good], xy[1][good]]\n",
    "sigma1 = sigma[good]\n",
    "\n",
    "# round the point locations to the nearest 5-km grid cell\n",
    "xy_r = np.round((xy1[0]+1j*xy1[1])/5.e3)*5.e3\n",
    "# find the unique values of the rounded grid locations\n",
    "u_xy=np.unique(xy_r)\n",
    "\n",
    "# make a list variable to hold the outputs\n",
    "xy_rough=[]\n",
    "\n",
    "# loop over the rounded locations:\n",
    "for xi in u_xy:\n",
    "    ii = xy_r==xi\n",
    "    xy_rough += [(np.real(xi), np.imag(xi), np.median(sigma1[ii]))]\n",
    "\n",
    "# Stick the tuples in the ouput list together to make a numpy array\n",
    "xy_rough=np.c_[xy_rough]"
   ]
  },
  {
   "cell_type": "code",
   "execution_count": null,
   "id": "c2867c90-b5f9-4d9c-a219-1e5c7ebd24dd",
   "metadata": {},
   "outputs": [],
   "source": [
    "# map it!\n",
    "North_box = dict(x = [-450, -375, -375, -450, -450], y = [-100, -115, -100, -90, -100], name='North')\n",
    "South_box = dict(x = [ -450, -375, -375, -450, -450,], y = [-100, -115, -140, -115, -100], name='South')\n",
    "\n",
    "ii=np.argsort(xy_rough[:,2])\n",
    "plt.figure(); plt.scatter(xy_rough[:,0][ii], xy_rough[:,1][ii], c=xy_rough[:,2][ii], vmin=0.15, vmax=0.25, zorder=0); plt.colorbar()\n",
    "for box in [North_box, South_box]:\n",
    "    plt.plot(np.array(box['x'])*1000, np.array(box['y'])*1000, linewidth=2, zorder=10, label=box['name'])\n",
    "                                                                                                 \n",
    "plt.legend()\n"
   ]
  },
  {
   "cell_type": "code",
   "execution_count": null,
   "id": "e134d81d-e137-4dcd-8e2a-3b0d66effb60",
   "metadata": {},
   "outputs": [],
   "source": []
  }
 ],
 "metadata": {
  "kernelspec": {
   "display_name": "Python 3 (ipykernel)",
   "language": "python",
   "name": "python3"
  },
  "language_info": {
   "codemirror_mode": {
    "name": "ipython",
    "version": 3
   },
   "file_extension": ".py",
   "mimetype": "text/x-python",
   "name": "python",
   "nbconvert_exporter": "python",
   "pygments_lexer": "ipython3",
   "version": "3.9.10"
  }
 },
 "nbformat": 4,
 "nbformat_minor": 5
}
